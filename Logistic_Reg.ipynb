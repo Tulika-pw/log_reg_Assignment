{
  "cells": [
    {
      "cell_type": "markdown",
      "source": [
        "*Assignment Code: DA-AG-011*\n",
        "\n",
        "Logistic Regression | Assignment\n",
        "\n",
        "*Question 1: What is Logistic Regression, and how does it differ from Linear Regression?*\n",
        "\n",
        "Answer: - Logistic regression is a supervised machine learning algorithm widely used for binary classification tasks.\n",
        "-\tLogistic regression is basically a supervised classification algorithm. In a classification problem, the target variable (or output), y, can take only discrete values for a given set of features (or inputs), X. Here, we predict the value by 1 or 0.\n",
        "-\t Linear Regression is a machine learning algorithm based on supervised regression algorithm. Regression models a target prediction value based on independent variables. It is mostly used for finding out the relationship between variables and forecasting. Here, we predict the value by an integer number.\n",
        "\n",
        "\n",
        "*Question 2: Explain the role of the Sigmoid function in Logistic Regression.*\n",
        "\n",
        "Answer: The sigmoid function maps input values to a value between 0 and 1, making it useful for binary classification and logistic regression problems.\n",
        "\n",
        "\n",
        "*Question 3: What is Regularization in Logistic Regression and why is it needed?*\n",
        "\n",
        "Answer: - Regularization, a mechanism for penalizing model complexity during training, is extremely important in logistic regression modeling. It is an important technique in machine learning that helps to improve model accuracy by preventing overfitting.\n",
        "- The primary objective of regularization is to strike a balance between fitting the training data accurately and ensuring that the model can make reliable predictions on new, unseen data.\n",
        "\n",
        "\n",
        "*Question 4: What are some common evaluation metrics for classification models, and why are they important?*\n",
        "\n",
        "Answer: - Some of the common evaluation matrices for classification models are Confusion matrix, Accuracy, Precision, Recall, F1-score, ROC-AUC, Log-loss etc.\n",
        "-\tEvaluation metrics quantify the performance of classification models in machine learning. They offer feedback for model refinement and aid in selecting the most suitable model for specific problems. Different problems value errors differently for example in fraud detection, missing a fraud (False Negative) might be worse than flagging an innocent transaction (False Positive).\n"
      ],
      "metadata": {
        "id": "jSkDCuv8JgGI"
      }
    },
    {
      "cell_type": "code",
      "execution_count": null,
      "metadata": {
        "colab": {
          "base_uri": "https://localhost:8080/"
        },
        "id": "rn2GK6Dina8M",
        "outputId": "67ab4e96-df3e-4ecc-baaa-e1f69ad9c5e3"
      },
      "outputs": [
        {
          "name": "stdout",
          "output_type": "stream",
          "text": [
            "Accuracy: 0.9561\n"
          ]
        }
      ],
      "source": [
        "'''Question 5: Write a Python program that loads a CSV file into a Pandas DataFrame,\n",
        "splits into train/test sets, trains a Logistic Regression model, and prints its accuracy.\n",
        "(Use Dataset from sklearn package) (Include your Python code and output in the code box below.)'''\n",
        "\n",
        "import pandas as pd\n",
        "from sklearn.datasets import load_breast_cancer\n",
        "from sklearn.model_selection import train_test_split\n",
        "from sklearn.linear_model import LogisticRegression\n",
        "from sklearn.metrics import accuracy_score\n",
        "\n",
        "import warnings\n",
        "warnings.filterwarnings('ignore')\n",
        "\n",
        "#Load dataset from sklearn\n",
        "cancer = load_breast_cancer()\n",
        "df = pd.DataFrame(cancer.data, columns=cancer.feature_names)\n",
        "df['target'] = cancer.target\n",
        "\n",
        "#Save to CSV (simulating reading from a CSV file)\n",
        "df.to_csv(\"breast_cancer.csv\", index=False)\n",
        "\n",
        "#Load CSV into Pandas DataFrame\n",
        "data = pd.read_csv(\"breast_cancer.csv\")\n",
        "\n",
        "#Split features and target\n",
        "X = data.drop('target', axis=1)\n",
        "y = data['target']\n",
        "\n",
        "#Train-test split\n",
        "X_train, X_test, y_train, y_test = train_test_split(\n",
        "    X, y, test_size=0.2, random_state=42\n",
        ")\n",
        "\n",
        "#Train Logistic Regression model\n",
        "model = LogisticRegression(max_iter=10000)\n",
        "model.fit(X_train, y_train)\n",
        "\n",
        "#Predict and calculate accuracy\n",
        "y_pred = model.predict(X_test)\n",
        "accuracy = accuracy_score(y_test, y_pred)\n",
        "\n",
        "print(f\"Accuracy: {accuracy:.4f}\")\n"
      ]
    },
    {
      "cell_type": "code",
      "execution_count": null,
      "metadata": {
        "colab": {
          "base_uri": "https://localhost:8080/"
        },
        "id": "jKkuh1_tdsL7",
        "outputId": "ff1daf33-2541-476f-88b6-71ea9436e14e"
      },
      "outputs": [
        {
          "name": "stdout",
          "output_type": "stream",
          "text": [
            "Coefficients: [[-0.39345607  0.96251768 -2.37512436 -0.99874594]\n",
            " [ 0.50843279 -0.25482714 -0.21301129 -0.77574766]\n",
            " [-0.11497673 -0.70769055  2.58813565  1.7744936 ]]\n",
            "Accuracy: 1.0\n"
          ]
        }
      ],
      "source": [
        "'''Question 6: Write a Python program to train a Logistic Regression model using\n",
        "L2 regularization (Ridge) and print the model coefficients and accuracy.\n",
        "(Use Dataset from sklearn package) (Include your Python code and output in the code box below.)'''\n",
        "\n",
        "\n",
        "\n",
        "from sklearn.datasets import load_iris\n",
        "from sklearn.model_selection import train_test_split\n",
        "from sklearn.linear_model import LogisticRegression\n",
        "from sklearn.metrics import accuracy_score\n",
        "\n",
        "import warnings\n",
        "warnings.filterwarnings('ignore')\n",
        "\n",
        "# Load dataset\n",
        "iris = load_iris()\n",
        "X = iris.data\n",
        "y = iris.target\n",
        "\n",
        "# Split data\n",
        "X_train, X_test, y_train, y_test = train_test_split(X, y, test_size=0.2, random_state=42)\n",
        "\n",
        "# Train Logistic Regression (L2 regularization is default)\n",
        "model = LogisticRegression(max_iter=1000)\n",
        "model.fit(X_train, y_train)\n",
        "\n",
        "# Predict and check accuracy\n",
        "y_pred = model.predict(X_test)\n",
        "print(\"Coefficients:\", model.coef_)\n",
        "print(\"Accuracy:\", accuracy_score(y_test, y_pred))\n"
      ]
    },
    {
      "cell_type": "code",
      "execution_count": null,
      "metadata": {
        "colab": {
          "base_uri": "https://localhost:8080/"
        },
        "id": "qypptZT_ik-R",
        "outputId": "bb04f6ed-a019-4e6f-ef74-1e5e7ff13237"
      },
      "outputs": [
        {
          "name": "stdout",
          "output_type": "stream",
          "text": [
            "              precision    recall  f1-score   support\n",
            "\n",
            "      setosa       1.00      1.00      1.00        10\n",
            "  versicolor       1.00      0.89      0.94         9\n",
            "   virginica       0.92      1.00      0.96        11\n",
            "\n",
            "    accuracy                           0.97        30\n",
            "   macro avg       0.97      0.96      0.97        30\n",
            "weighted avg       0.97      0.97      0.97        30\n",
            "\n"
          ]
        }
      ],
      "source": [
        "'''Question 7: Write a Python program to train a Logistic Regression model for\n",
        " multiclass classification using multi_class='ovr' and print the classification report.\n",
        "(Use Dataset from sklearn package) (Include your Python code and output in the code box below.)'''\n",
        "\n",
        "\n",
        "\n",
        "from sklearn.datasets import load_iris\n",
        "from sklearn.model_selection import train_test_split\n",
        "from sklearn.linear_model import LogisticRegression\n",
        "from sklearn.metrics import classification_report\n",
        "\n",
        "import warnings\n",
        "warnings.filterwarnings('ignore')\n",
        "\n",
        "# Load dataset\n",
        "iris = load_iris()\n",
        "X = iris.data\n",
        "y = iris.target\n",
        "\n",
        "# Split data into train and test\n",
        "X_train, X_test, y_train, y_test = train_test_split(\n",
        "    X, y, test_size=0.2, random_state=42\n",
        ")\n",
        "\n",
        "# Train Logistic Regression (One-vs-Rest)\n",
        "model = LogisticRegression(multi_class='ovr', max_iter=1000)\n",
        "model.fit(X_train, y_train)\n",
        "\n",
        "# Predictions\n",
        "y_pred = model.predict(X_test)\n",
        "\n",
        "# Classification report\n",
        "print(classification_report(y_test, y_pred, target_names=iris.target_names))\n"
      ]
    },
    {
      "cell_type": "code",
      "execution_count": null,
      "metadata": {
        "colab": {
          "background_save": true
        },
        "id": "10-yW0FUjh3b",
        "outputId": "d7afbdea-2307-49e3-91f8-c2959efa5363"
      },
      "outputs": [
        {
          "name": "stdout",
          "output_type": "stream",
          "text": [
            "Best Parameters: {'C': 100, 'penalty': 'l1', 'solver': 'liblinear'}\n",
            "Best Cross-Validation Accuracy: 0.9670\n"
          ]
        }
      ],
      "source": [
        "'''Question 8: Write a Python program to apply GridSearchCV to tune C and penalty\n",
        "hyperparameters for Logistic Regression and print the best parameters and validation accuracy.\n",
        "(Use Dataset from sklearn package) (Include your Python code and output in the code box below.)'''\n",
        "\n",
        "\n",
        "import pandas as pd\n",
        "from sklearn.datasets import load_breast_cancer\n",
        "from sklearn.model_selection import train_test_split, GridSearchCV\n",
        "from sklearn.linear_model import LogisticRegression\n",
        "\n",
        "import warnings\n",
        "warnings.filterwarnings('ignore')\n",
        "\n",
        "# Load dataset\n",
        "data = load_breast_cancer()\n",
        "X = pd.DataFrame(data.data, columns=data.feature_names)\n",
        "y = pd.Series(data.target)\n",
        "\n",
        "# Train-test split\n",
        "X_train, X_test, y_train, y_test = train_test_split(\n",
        "    X, y, test_size=0.2, random_state=42\n",
        ")\n",
        "\n",
        "# Logistic Regression model\n",
        "log_reg = LogisticRegression(max_iter=10000)\n",
        "\n",
        "# Parameter grid for tuning\n",
        "param_grid = {\n",
        "    'C': [0.01, 0.1, 1, 10, 100],       # Regularization strength\n",
        "    'penalty': ['l1', 'l2'],            # Regularization type\n",
        "    'solver': ['liblinear']             # liblinear supports both l1 and l2\n",
        "}\n",
        "\n",
        "# Grid search with cross-validation\n",
        "grid = GridSearchCV(log_reg, param_grid, cv=5, scoring='accuracy')\n",
        "grid.fit(X_train, y_train)\n",
        "\n",
        "# Best parameters and validation accuracy\n",
        "print(\"Best Parameters:\", grid.best_params_)\n",
        "print(f\"Best Cross-Validation Accuracy: {grid.best_score_:.4f}\")\n"
      ]
    },
    {
      "cell_type": "code",
      "source": [
        "'''Question 9: Write a Python program to standardize the features before training\n",
        "Logistic Regression and compare the model's accuracy with and without scaling.\n",
        "(Use Dataset from sklearn package) (Include your Python code and output in the code box below.) '''\n",
        "\n",
        "\n",
        "import numpy as np\n",
        "from sklearn.datasets import load_breast_cancer\n",
        "from sklearn.linear_model import LogisticRegression\n",
        "from sklearn.preprocessing import StandardScaler\n",
        "from sklearn.model_selection import train_test_split\n",
        "from sklearn.metrics import accuracy_score\n",
        "\n",
        "\n",
        "import warnings\n",
        "warnings.filterwarnings('ignore')\n",
        "\n",
        "# Load the dataset\n",
        "data = load_breast_cancer()\n",
        "X, y = data.data, data.target\n",
        "\n",
        "# Split into training and testing sets (80% train, 20% test)\n",
        "X_train, X_test, y_train, y_test = train_test_split(X, y, test_size=0.2, random_state=42)\n",
        "\n",
        "# Logistic Regression without feature scaling\n",
        "model_unscaled = LogisticRegression(max_iter=10000, random_state=1)\n",
        "model_unscaled.fit(X_train, y_train)\n",
        "y_pred_unscaled = model_unscaled.predict(X_test)\n",
        "accuracy_unscaled = accuracy_score(y_test, y_pred_unscaled)\n",
        "\n",
        "# Apply StandardScaler to standardize features\n",
        "scaler = StandardScaler()\n",
        "X_train_scaled = scaler.fit_transform(X_train)\n",
        "X_test_scaled = scaler.transform(X_test)\n",
        "\n",
        "# Logistic Regression with feature scaling\n",
        "model_scaled = LogisticRegression(max_iter=10000, random_state=42)\n",
        "model_scaled.fit(X_train_scaled, y_train)\n",
        "y_pred_scaled = model_scaled.predict(X_test_scaled)\n",
        "accuracy_scaled = accuracy_score(y_test, y_pred_scaled)\n",
        "\n",
        "# Display the results\n",
        "print(f\"Accuracy without scaling: {accuracy_unscaled:.4f}\")\n",
        "print(f\"Accuracy with scaling   : {accuracy_scaled:.4f}\")\n",
        "\n",
        "\n",
        "\n"
      ],
      "metadata": {
        "colab": {
          "base_uri": "https://localhost:8080/"
        },
        "id": "Wlv7InIlMdbj",
        "outputId": "45a3dced-91bc-4ff5-b8ce-0f09bf33fbbe"
      },
      "execution_count": 2,
      "outputs": [
        {
          "output_type": "stream",
          "name": "stdout",
          "text": [
            "Accuracy without scaling: 0.9561\n",
            "Accuracy with scaling   : 0.9737\n"
          ]
        }
      ]
    },
    {
      "cell_type": "markdown",
      "source": [
        "*Question 10: Imagine you are working at an e-commerce company that wants to predict which customers will respond to a marketing campaign. Given an imbalanced dataset (only 5% of customers respond), describe the approach you’d take to build a Logistic Regression model — including data handling, feature scaling, balancing classes, hyperparameter tuning, and evaluating the model for this real-world business use case.*\n",
        "\n",
        "Answer:\n",
        " 1. Understand the problem & business goals\n",
        "\n",
        "•\tObjective: Predict which customers will respond to the marketing campaign.\n",
        "•\tBusiness priority: Minimize wasted marketing spend by targeting the right customers.\n",
        "•\tError cost:\n",
        "o\tFalse Positive (FP): We spend money marketing to someone who won’t respond.\n",
        "o\tFalse Negative (FN): We miss someone who would have responded — potentially lost revenue.\n",
        "•\tIn marketing, sometimes recall is more important (we want to reach most potential responders), but precision also matters if campaigns are costly.\n",
        "2. Prepare the data\n",
        "\n",
        "•\tSplit into train/test sets.\n",
        "•\tHandle missing values (fill or drop).\n",
        "•\tConvert categories to numbers (one-hot encoding).\n",
        "•\tScale features with StandardScaler (Logistic Regression works better with scaled data).\n",
        "3. Handle imbalance\n",
        "\n",
        "•\tUse class_weight='balanced' in Logistic Regression (easy, no manual resampling).\n",
        "•\tThis makes the model pay more attention to the rare positive class\n",
        "4. Train & tune\n",
        "\n",
        "•\tTry different values of C (e.g., 0.01, 0.1, 1, 10) and penalty (l1 or l2).\n",
        "•\tUse cross-validation to find the best parameters.\n",
        "•\tFocus on F1-score or Recall instead of Accuracy.\n",
        "5. Evaluate\n",
        "\n",
        "•\tLook at Precision, Recall, F1-score, and the Confusion Matrix.\n",
        "•\tCheck PR-AUC to measure performance on rare positives.\n",
        "•\tPick a probability threshold that matches budget (e.g., target top 10% likely customers).\n",
        "6. Deploy\n",
        "\n",
        "•\tUse predict_proba() to get response probabilities.\n",
        "•\tRank customers by score and choose how many to target.\n"
      ],
      "metadata": {
        "id": "UCoUkSkMPENm"
      }
    }
  ],
  "metadata": {
    "colab": {
      "provenance": []
    },
    "kernelspec": {
      "display_name": "Python 3",
      "name": "python3"
    },
    "language_info": {
      "name": "python"
    }
  },
  "nbformat": 4,
  "nbformat_minor": 0
}